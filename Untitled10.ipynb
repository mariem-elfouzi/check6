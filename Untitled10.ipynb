{
  "nbformat": 4,
  "nbformat_minor": 0,
  "metadata": {
    "colab": {
      "name": "Untitled10.ipynb",
      "provenance": []
    },
    "kernelspec": {
      "name": "python3",
      "display_name": "Python 3"
    },
    "language_info": {
      "name": "python"
    }
  },
  "cells": [
    {
      "cell_type": "code",
      "metadata": {
        "id": "ISOFdFV5LEhi"
      },
      "source": [
        "#question 1\n",
        "import numpy as np\n",
        "a=np.array([1,2,3,4])\n",
        "print(a)\n",
        "l=a.tolist()\n",
        "print(l)"
      ],
      "execution_count": null,
      "outputs": []
    },
    {
      "cell_type": "code",
      "metadata": {
        "id": "_kYJ0JeQQecG"
      },
      "source": [
        "#question 2\n",
        "#method 1\n",
        "a=np.array([1,2,3,4,5,6,7,8,9])\n",
        "b=a.reshape(3,3)\n",
        "s=0\n",
        "for i in range (3):\n",
        "  s=s+b[i,i]\n",
        "print(s)"
      ],
      "execution_count": null,
      "outputs": []
    },
    {
      "cell_type": "code",
      "metadata": {
        "id": "uolfE68yNMTV"
      },
      "source": [
        "#question 2 \n",
        "#method 2\n",
        "a=np.array([1,2,3,4,5,6,7,8,9])\n",
        "b=a.reshape(3,3)\n",
        "print(b.trace(0))"
      ],
      "execution_count": null,
      "outputs": []
    },
    {
      "cell_type": "code",
      "metadata": {
        "id": "yZCERqbHRW3s"
      },
      "source": [
        "#question 3\n",
        "a=np.array([[1,2],[3,5]])\n",
        "x=int(input(\"x=\"))\n",
        "a=a.reshape(1,a.shape[0]*a.shape[1])\n",
        "print(a)\n",
        "b=a.shape[1]\n",
        "for i in range(b):\n",
        "  if a[0,i]>x:\n",
        "    print(a[0,i],\"is higher than\",x)\n"
      ],
      "execution_count": null,
      "outputs": []
    },
    {
      "cell_type": "code",
      "metadata": {
        "id": "MRU-P-QffFGB"
      },
      "source": [
        "#question 4\n",
        "import numpy as np\n",
        "a=np.array([[1,2,3],[4,5,6]])\n",
        "b=np.array([[7,8,9],[10,11,12]])\n",
        "a1=a.reshape(1,a.shape[0]*a.shape[1])\n",
        "b1=b.reshape(1,b.shape[0]*b.shape[1])\n",
        "x=a1.shape[1]\n",
        "c=np.zeros(x,dtype=int)\n",
        "for i in range (x):\n",
        "  c[i]=a1[0,i]+b1[0,i]\n",
        "c=c.reshape(a.shape)\n",
        "print(c)"
      ],
      "execution_count": null,
      "outputs": []
    },
    {
      "cell_type": "code",
      "metadata": {
        "id": "nbxOpkI1jiMT"
      },
      "source": [
        "#question 5\n",
        "import numpy as np\n",
        "a=np.array([[2,6,84],[36,5,14]])\n",
        "x=np.mean(a,1)\n",
        "print(x)"
      ],
      "execution_count": null,
      "outputs": []
    }
  ]
}